{
 "cells": [
  {
   "cell_type": "markdown",
   "id": "1ff5943a",
   "metadata": {},
   "source": [
    "\n",
    "# AUTHOR - SHIVAM SHEKHAR"
   ]
  },
  {
   "cell_type": "markdown",
   "id": "61e89bf3",
   "metadata": {},
   "source": [
    "# TASK 1 TSF \n",
    "___ \n",
    "\n",
    "## PREDICTION USING SUPERVISED ML\n",
    "\n",
    "\n",
    "___\n",
    "\n",
    "* **predict the percentage of an student based on the number of study**\n",
    "\n",
    "___"
   ]
  },
  {
   "cell_type": "code",
   "execution_count": 1,
   "id": "5eeed0e7",
   "metadata": {},
   "outputs": [],
   "source": [
    "import pandas as pd \n",
    "import numpy as np \n",
    "import matplotlib.pyplot as plt \n",
    "from sklearn.model_selection import train_test_split\n",
    "from sklearn.linear_model import LinearRegression \n",
    "from sklearn import metrics"
   ]
  },
  {
   "cell_type": "code",
   "execution_count": 2,
   "id": "6d9e2b0e",
   "metadata": {},
   "outputs": [
    {
     "data": {
      "text/html": [
       "<div>\n",
       "<style scoped>\n",
       "    .dataframe tbody tr th:only-of-type {\n",
       "        vertical-align: middle;\n",
       "    }\n",
       "\n",
       "    .dataframe tbody tr th {\n",
       "        vertical-align: top;\n",
       "    }\n",
       "\n",
       "    .dataframe thead th {\n",
       "        text-align: right;\n",
       "    }\n",
       "</style>\n",
       "<table border=\"1\" class=\"dataframe\">\n",
       "  <thead>\n",
       "    <tr style=\"text-align: right;\">\n",
       "      <th></th>\n",
       "      <th>Hours</th>\n",
       "      <th>Scores</th>\n",
       "    </tr>\n",
       "  </thead>\n",
       "  <tbody>\n",
       "    <tr>\n",
       "      <th>0</th>\n",
       "      <td>2.5</td>\n",
       "      <td>21</td>\n",
       "    </tr>\n",
       "    <tr>\n",
       "      <th>1</th>\n",
       "      <td>5.1</td>\n",
       "      <td>47</td>\n",
       "    </tr>\n",
       "    <tr>\n",
       "      <th>2</th>\n",
       "      <td>3.2</td>\n",
       "      <td>27</td>\n",
       "    </tr>\n",
       "    <tr>\n",
       "      <th>3</th>\n",
       "      <td>8.5</td>\n",
       "      <td>75</td>\n",
       "    </tr>\n",
       "    <tr>\n",
       "      <th>4</th>\n",
       "      <td>3.5</td>\n",
       "      <td>30</td>\n",
       "    </tr>\n",
       "  </tbody>\n",
       "</table>\n",
       "</div>"
      ],
      "text/plain": [
       "   Hours  Scores\n",
       "0    2.5      21\n",
       "1    5.1      47\n",
       "2    3.2      27\n",
       "3    8.5      75\n",
       "4    3.5      30"
      ]
     },
     "execution_count": 2,
     "metadata": {},
     "output_type": "execute_result"
    }
   ],
   "source": [
    "df = pd.read_csv(\"http://bit.ly/w-data\")\n",
    "df.head()"
   ]
  },
  {
   "cell_type": "code",
   "execution_count": 3,
   "id": "b75e3a3f",
   "metadata": {},
   "outputs": [
    {
     "data": {
      "text/plain": [
       "(0    2.5\n",
       " 1    5.1\n",
       " 2    3.2\n",
       " 3    8.5\n",
       " 4    3.5\n",
       " Name: Hours, dtype: float64,\n",
       " 0    21\n",
       " 1    47\n",
       " 2    27\n",
       " 3    75\n",
       " 4    30\n",
       " Name: Scores, dtype: int64)"
      ]
     },
     "execution_count": 3,
     "metadata": {},
     "output_type": "execute_result"
    }
   ],
   "source": [
    "hours = df.Hours\n",
    "scores = df.Scores\n",
    "hours[:5] , scores[:5]"
   ]
  },
  {
   "cell_type": "markdown",
   "id": "5c78e41f",
   "metadata": {},
   "source": [
    "### Plotting a graph to get a sense of the data"
   ]
  },
  {
   "cell_type": "code",
   "execution_count": 4,
   "id": "350813d9",
   "metadata": {},
   "outputs": [
    {
     "data": {
      "image/png": "[encoded data removed]",
      "text/plain": [
       "<Figure size 576x576 with 1 Axes>"
      ]
     },
     "metadata": {
      "needs_background": "light"
     },
     "output_type": "display_data"
    }
   ],
   "source": [
    "plt.figure(figsize = ( 8 , 8 ))\n",
    "plt.scatter(hours , scores , c = scores , s = scores*1.5) \n",
    "plt.xlabel(\"Hours\" , size = 18 , color = 'green')\n",
    "plt.ylabel(\"Scores\" , size = 18 , color = 'green')\n",
    "plt.title(\"HOURS v/s SCORES\" ,  size = 18 , color = 'green') \n",
    "plt.grid()\n",
    "plt.show()"
   ]
  },
  {
   "cell_type": "markdown",
   "id": "7fc229e4",
   "metadata": {},
   "source": [
    "The above Scatter Graph signifies the relation between Hours and Scores"
   ]
  },
  {
   "cell_type": "markdown",
   "id": "36738468",
   "metadata": {},
   "source": [
    "### Splitting the data for Model Training"
   ]
  },
  {
   "cell_type": "code",
   "execution_count": 5,
   "id": "59e50650",
   "metadata": {},
   "outputs": [
    {
     "data": {
      "text/plain": [
       "(   Hours\n",
       " 0    2.5\n",
       " 1    5.1\n",
       " 2    3.2\n",
       " 3    8.5\n",
       " 4    3.5,\n",
       " 0    21\n",
       " 1    47\n",
       " 2    27\n",
       " 3    75\n",
       " 4    30\n",
       " Name: Scores, dtype: int64)"
      ]
     },
     "execution_count": 5,
     "metadata": {},
     "output_type": "execute_result"
    }
   ],
   "source": [
    "hours = df.iloc[:,:-1]\n",
    "scores = df.iloc[:,1]\n",
    "hours[:5] , scores[:5]"
   ]
  },
  {
   "cell_type": "code",
   "execution_count": 6,
   "id": "a416c523",
   "metadata": {},
   "outputs": [],
   "source": [
    "hour_train , hour_test , score_train , score_test = train_test_split(hours , scores , random_state = 0)"
   ]
  },
  {
   "cell_type": "code",
   "execution_count": 7,
   "id": "afdc1d6b",
   "metadata": {},
   "outputs": [
    {
     "data": {
      "text/plain": [
       "LinearRegression()"
      ]
     },
     "execution_count": 7,
     "metadata": {},
     "output_type": "execute_result"
    }
   ],
   "source": [
    "# TRAINING THE MODEL \n",
    "lin_reg = LinearRegression() \n",
    "lin_reg.fit(hour_train , score_train)"
   ]
  },
  {
   "cell_type": "markdown",
   "id": "f2c9a449",
   "metadata": {},
   "source": [
    "### Seeing how well does it fit with the data values"
   ]
  },
  {
   "cell_type": "code",
   "execution_count": 8,
   "id": "b7f7912a",
   "metadata": {},
   "outputs": [
    {
     "data": {
      "image/png": "[encoded data removed]",
      "text/plain": [
       "<Figure size 576x576 with 1 Axes>"
      ]
     },
     "metadata": {
      "needs_background": "light"
     },
     "output_type": "display_data"
    }
   ],
   "source": [
    "plt.figure(figsize=(8,8))\n",
    "line = lin_reg.coef_*hours + lin_reg.intercept_\n",
    "plt.scatter(hours , scores , c = scores , s = scores*1.5) \n",
    "plt.plot(hours , line , \"b-\")\n",
    "plt.grid()"
   ]
  },
  {
   "cell_type": "markdown",
   "id": "33a47a80",
   "metadata": {},
   "source": [
    "### Predictions "
   ]
  },
  {
   "cell_type": "code",
   "execution_count": 9,
   "id": "c2ba0609",
   "metadata": {},
   "outputs": [
    {
     "data": {
      "text/plain": [
       "array([16.84472176, 33.74557494, 75.50062397, 26.7864001 , 60.58810646,\n",
       "       39.71058194, 20.8213931 ])"
      ]
     },
     "execution_count": 9,
     "metadata": {},
     "output_type": "execute_result"
    }
   ],
   "source": [
    "scores_pred = lin_reg.predict(hour_test)\n",
    "scores_pred"
   ]
  },
  {
   "cell_type": "code",
   "execution_count": 10,
   "id": "774eaee7",
   "metadata": {},
   "outputs": [
    {
     "data": {
      "text/html": [
       "<div>\n",
       "<style scoped>\n",
       "    .dataframe tbody tr th:only-of-type {\n",
       "        vertical-align: middle;\n",
       "    }\n",
       "\n",
       "    .dataframe tbody tr th {\n",
       "        vertical-align: top;\n",
       "    }\n",
       "\n",
       "    .dataframe thead th {\n",
       "        text-align: right;\n",
       "    }\n",
       "</style>\n",
       "<table border=\"1\" class=\"dataframe\">\n",
       "  <thead>\n",
       "    <tr style=\"text-align: right;\">\n",
       "      <th></th>\n",
       "      <th>Actual Value</th>\n",
       "      <th>Predicted Value</th>\n",
       "    </tr>\n",
       "  </thead>\n",
       "  <tbody>\n",
       "    <tr>\n",
       "      <th>5</th>\n",
       "      <td>20</td>\n",
       "      <td>16.844722</td>\n",
       "    </tr>\n",
       "    <tr>\n",
       "      <th>2</th>\n",
       "      <td>27</td>\n",
       "      <td>33.745575</td>\n",
       "    </tr>\n",
       "    <tr>\n",
       "      <th>19</th>\n",
       "      <td>69</td>\n",
       "      <td>75.500624</td>\n",
       "    </tr>\n",
       "    <tr>\n",
       "      <th>16</th>\n",
       "      <td>30</td>\n",
       "      <td>26.786400</td>\n",
       "    </tr>\n",
       "    <tr>\n",
       "      <th>11</th>\n",
       "      <td>62</td>\n",
       "      <td>60.588106</td>\n",
       "    </tr>\n",
       "    <tr>\n",
       "      <th>22</th>\n",
       "      <td>35</td>\n",
       "      <td>39.710582</td>\n",
       "    </tr>\n",
       "    <tr>\n",
       "      <th>17</th>\n",
       "      <td>24</td>\n",
       "      <td>20.821393</td>\n",
       "    </tr>\n",
       "  </tbody>\n",
       "</table>\n",
       "</div>"
      ],
      "text/plain": [
       "    Actual Value  Predicted Value\n",
       "5             20        16.844722\n",
       "2             27        33.745575\n",
       "19            69        75.500624\n",
       "16            30        26.786400\n",
       "11            62        60.588106\n",
       "22            35        39.710582\n",
       "17            24        20.821393"
      ]
     },
     "execution_count": 10,
     "metadata": {},
     "output_type": "execute_result"
    }
   ],
   "source": [
    "# comparing the Actual scores versus the predicted\n",
    "\n",
    "compare = pd.DataFrame({\"Actual Value\" : score_test , \"Predicted Value\" : scores_pred})\n",
    "compare"
   ]
  },
  {
   "cell_type": "markdown",
   "id": "3ac3902d",
   "metadata": {},
   "source": [
    "### comparing the values of actual scores and the predicted scores"
   ]
  },
  {
   "cell_type": "code",
   "execution_count": 11,
   "id": "9cd9a416",
   "metadata": {},
   "outputs": [
    {
     "data": {
      "image/png": "[encoded data removed]",
      "text/plain": [
       "<Figure size 576x576 with 1 Axes>"
      ]
     },
     "metadata": {
      "needs_background": "light"
     },
     "output_type": "display_data"
    }
   ],
   "source": [
    "\n",
    "plt.figure(figsize=(8,8))\n",
    "plt.scatter(hour_test , score_test , c = \"red\" , label= \"Actual Values\")\n",
    "plt.scatter(hour_test , scores_pred , c = \"blue\" , label= \"Predicted Values\")\n",
    "plt.legend()\n",
    "plt.grid()"
   ]
  },
  {
   "cell_type": "code",
   "execution_count": 12,
   "id": "a8386e18",
   "metadata": {},
   "outputs": [
    {
     "data": {
      "text/plain": [
       "(0.9484509249326872, 0.9367661043365055)"
      ]
     },
     "execution_count": 12,
     "metadata": {},
     "output_type": "execute_result"
    }
   ],
   "source": [
    "train_score = lin_reg.score(hour_train , score_train) \n",
    "\n",
    "test_score = lin_reg.score(hour_test , score_test)\n",
    "train_score , test_score"
   ]
  },
  {
   "cell_type": "markdown",
   "id": "b55ee345",
   "metadata": {},
   "source": [
    "___\n",
    "## Asking user for input as a list of hours to get the possible percentages that can be predicted \n",
    "___"
   ]
  },
  {
   "cell_type": "code",
   "execution_count": 15,
   "id": "b4179d25",
   "metadata": {},
   "outputs": [
    {
     "name": "stdout",
     "output_type": "stream",
     "text": [
      "Enter how many Percentage you want to predict!!: 1\n",
      "9.25\n",
      "Possible Percentage will be  93.89  provided the number of hours a student studies is  9.25\n"
     ]
    }
   ],
   "source": [
    "n = int(input(\"Enter how many Percentage you want to predict!!: \")) \n",
    "h = [float(x) for x in input().split()]\n",
    "for i in range(n):\n",
    "    prediction = lin_reg.predict([[h[i]]])\n",
    "    print(\"Possible Percentage will be \" , \"%.2f\"%prediction[0] , \" provided the number of hours a student studies is \",h[i])\n",
    "    "
   ]
  },
  {
   "cell_type": "markdown",
   "id": "8ece4fb3",
   "metadata": {},
   "source": [
    "### Comparing scores of training and testing data"
   ]
  },
  {
   "cell_type": "code",
   "execution_count": 14,
   "id": "208b53b6",
   "metadata": {},
   "outputs": [
    {
     "name": "stderr",
     "output_type": "stream",
     "text": [
      "<ipython-input-14-6ac585688510>:5: MatplotlibDeprecationWarning: Case-insensitive properties were deprecated in 3.3 and support will be removed two minor releases later\n",
      "  plt.text(i , y[i]/2 ,\"%.2f\"%y[i] , ha = \"center\" , Bbox = dict(facecolor = 'white', alpha =.8))\n"
     ]
    },
    {
     "data": {
      "image/png": "[encoded data removed]",
      "text/plain": [
       "<Figure size 720x360 with 1 Axes>"
      ]
     },
     "metadata": {
      "needs_background": "light"
     },
     "output_type": "display_data"
    }
   ],
   "source": [
    "\n",
    "plt.figure(figsize = (10,5))\n",
    "plt.bar(['TRAINING SCORE','TESTING SCORE']  ,[train_score , test_score], width = 0.4 , color = ['blue','red'])\n",
    "y = [train_score , test_score]\n",
    "for i in range(2):\n",
    "    plt.text(i , y[i]/2 ,\"%.2f\"%y[i] , ha = \"center\" , Bbox = dict(facecolor = 'white', alpha =.8))\n",
    "plt.title(\"Train and Test Scores\" , size = 18 , color = \"green\")\n",
    "plt.show()"
   ]
  },
  {
   "cell_type": "code",
   "execution_count": null,
   "id": "0d97a318",
   "metadata": {},
   "outputs": [],
   "source": []
  },
  {
   "cell_type": "code",
   "execution_count": null,
   "id": "197acbb3",
   "metadata": {},
   "outputs": [],
   "source": []
  },
  {
   "cell_type": "code",
   "execution_count": null,
   "id": "d163c359",
   "metadata": {},
   "outputs": [],
   "source": []
  }
 ],
 "metadata": {
  "kernelspec": {
   "display_name": "Python 3",
   "language": "python",
   "name": "python3"
  },
  "language_info": {
   "codemirror_mode": {
    "name": "ipython",
    "version": 3
   },
   "file_extension": ".py",
   "mimetype": "text/x-python",
   "name": "python",
   "nbconvert_exporter": "python",
   "pygments_lexer": "ipython3",
   "version": "3.9.5"
  }
 },
 "nbformat": 4,
 "nbformat_minor": 5
}
